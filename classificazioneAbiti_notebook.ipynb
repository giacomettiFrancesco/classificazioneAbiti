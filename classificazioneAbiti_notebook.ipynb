{
  "nbformat": 4,
  "nbformat_minor": 0,
  "metadata": {
    "colab": {
      "name": "classificazioneAbiti.ipynb",
      "provenance": [],
      "collapsed_sections": []
    },
    "kernelspec": {
      "name": "python3",
      "display_name": "Python 3"
    }
  },
  "cells": [
    {
      "cell_type": "code",
      "metadata": {
        "id": "xLTxKNwu6kty",
        "colab_type": "code",
        "colab": {}
      },
      "source": [
        "import tensorflow as tf\n",
        "from tensorflow import keras\n",
        "\n",
        "import numpy as np\n",
        "import matplotlib.pyplot as plt"
      ],
      "execution_count": 0,
      "outputs": []
    },
    {
      "cell_type": "code",
      "metadata": {
        "colab_type": "code",
        "id": "dzLKpmZICaWN",
        "outputId": "fb10cd44-8ece-4821-8288-4da253579edd",
        "colab": {
          "base_uri": "https://localhost:8080/",
          "height": 34
        }
      },
      "source": [
        "#controlliamo che tensorflow sia installato\n",
        "print(tf.__version__)"
      ],
      "execution_count": 25,
      "outputs": [
        {
          "output_type": "stream",
          "text": [
            "2.2.0\n"
          ],
          "name": "stdout"
        }
      ]
    },
    {
      "cell_type": "code",
      "metadata": {
        "colab_type": "code",
        "id": "7MqDQO0KCaWS",
        "colab": {}
      },
      "source": [
        "#carico il dataset di prova in questo caso incluso nella libreria keras\n",
        "fashion_mnist = keras.datasets.fashion_mnist\n",
        "#divido il dataset in train e test\n",
        "(train_images, train_labels), (test_images, test_labels) = fashion_mnist.load_data()"
      ],
      "execution_count": 0,
      "outputs": []
    },
    {
      "cell_type": "code",
      "metadata": {
        "id": "a4uH25Ct8RGH",
        "colab_type": "code",
        "colab": {}
      },
      "source": [
        "#le labels sono formate da interi quindi creo un array con il tipo di abito \n",
        "#salvato in stringa per poi andarlo a leggere\n",
        "tipoAbito = ['T-shirt', 'Pantaloni', 'Maglione', 'Vestito', 'Cappotto',\n",
        "               'Sandali', 'Camicia', 'Scarpe', 'Borsa', 'Stivale']"
      ],
      "execution_count": 0,
      "outputs": []
    },
    {
      "cell_type": "code",
      "metadata": {
        "id": "zEp-krYNAE9U",
        "colab_type": "code",
        "outputId": "02c3417c-65b7-4513-91f8-2110773d6f36",
        "colab": {
          "base_uri": "https://localhost:8080/",
          "height": 34
        }
      },
      "source": [
        "#nel dataset di train sono contenute 60.000 immagini \n",
        "#con una risoluzione di 28X28 pixel\n",
        "train_images.shape"
      ],
      "execution_count": 28,
      "outputs": [
        {
          "output_type": "execute_result",
          "data": {
            "text/plain": [
              "(60000, 28, 28)"
            ]
          },
          "metadata": {
            "tags": []
          },
          "execution_count": 28
        }
      ]
    },
    {
      "cell_type": "code",
      "metadata": {
        "id": "AUw7djTGA8Y1",
        "colab_type": "code",
        "outputId": "abc0f66b-76cd-41d9-c981-d610d9cb5321",
        "colab": {
          "base_uri": "https://localhost:8080/",
          "height": 34
        }
      },
      "source": [
        "#nel dataset di train sono contenute 10.000 immagini \n",
        "#con una risoluzione di 28X28 pixel\n",
        "test_images.shape"
      ],
      "execution_count": 29,
      "outputs": [
        {
          "output_type": "execute_result",
          "data": {
            "text/plain": [
              "(10000, 28, 28)"
            ]
          },
          "metadata": {
            "tags": []
          },
          "execution_count": 29
        }
      ]
    },
    {
      "cell_type": "code",
      "metadata": {
        "id": "6CkOXmUgBG10",
        "colab_type": "code",
        "outputId": "c40b42b1-b49c-4aaa-ba88-3791a0151ea7",
        "colab": {
          "base_uri": "https://localhost:8080/",
          "height": 34
        }
      },
      "source": [
        "#avremo quindi 60.000 labels per il dataset di train\n",
        "len(train_labels)"
      ],
      "execution_count": 30,
      "outputs": [
        {
          "output_type": "execute_result",
          "data": {
            "text/plain": [
              "60000"
            ]
          },
          "metadata": {
            "tags": []
          },
          "execution_count": 30
        }
      ]
    },
    {
      "cell_type": "code",
      "metadata": {
        "id": "jZYqRW8vBfSZ",
        "colab_type": "code",
        "outputId": "e1e6c0a9-82ba-4a64-d90c-ed4a9e518b88",
        "colab": {
          "base_uri": "https://localhost:8080/",
          "height": 34
        }
      },
      "source": [
        "#e 10.000 labels per il dataset di test\n",
        "len(test_labels)"
      ],
      "execution_count": 31,
      "outputs": [
        {
          "output_type": "execute_result",
          "data": {
            "text/plain": [
              "10000"
            ]
          },
          "metadata": {
            "tags": []
          },
          "execution_count": 31
        }
      ]
    },
    {
      "cell_type": "code",
      "metadata": {
        "id": "FuJuelKUBnD-",
        "colab_type": "code",
        "outputId": "bf975b31-6e57-4987-a054-09d16b729bc3",
        "colab": {
          "base_uri": "https://localhost:8080/",
          "height": 265
        }
      },
      "source": [
        "plt.figure()\n",
        "plt.imshow(test_images[0])\n",
        "plt.colorbar()\n",
        "plt.grid(False)\n",
        "plt.show()"
      ],
      "execution_count": 32,
      "outputs": [
        {
          "output_type": "display_data",
          "data": {
            "image/png": "[encoded data removed]",
            "text/plain": [
              "<Figure size 432x288 with 2 Axes>"
            ]
          },
          "metadata": {
            "tags": [],
            "needs_background": "light"
          }
        }
      ]
    },
    {
      "cell_type": "code",
      "metadata": {
        "id": "QLdUhBJMB3Bf",
        "colab_type": "code",
        "colab": {}
      },
      "source": [
        "#ogni pixel dell'immagine contiene un valore da 0 a 255\n",
        "#per ottimizare il modello portiamo questi valori ad una scala da 0 a 1\n",
        "train_images = train_images / 255.0\n",
        "test_images = test_images / 255.0"
      ],
      "execution_count": 0,
      "outputs": []
    },
    {
      "cell_type": "code",
      "metadata": {
        "id": "Q1YfkFNOB57t",
        "colab_type": "code",
        "outputId": "b0f94f13-891f-4821-a421-7ef5b4187b27",
        "colab": {
          "base_uri": "https://localhost:8080/",
          "height": 269
        }
      },
      "source": [
        "#controlliamo che la scala dei valori sia 0 - 1\n",
        "plt.figure()\n",
        "plt.imshow(test_images[0])\n",
        "plt.colorbar()\n",
        "plt.grid(False)\n",
        "plt.show()"
      ],
      "execution_count": 34,
      "outputs": [
        {
          "output_type": "display_data",
          "data": {
            "image/png": "[encoded data removed]",
            "text/plain": [
              "<Figure size 432x288 with 2 Axes>"
            ]
          },
          "metadata": {
            "tags": [],
            "needs_background": "light"
          }
        }
      ]
    },
    {
      "cell_type": "code",
      "metadata": {
        "id": "tQbSM7ZSCtnZ",
        "colab_type": "code",
        "colab": {}
      },
      "source": [
        "#creiamo quindi il modello\n",
        "model = keras.Sequential([\n",
        "    #trasforma l'array bidimensionale di ogni immagine in un array\n",
        "    #unimensionale dalla lunghezza di 28*28 ovvero 784\n",
        "    keras.layers.Flatten(input_shape=(28, 28)),\n",
        "    #creiamo un primo livello composto da 128 neuroni artificiali\n",
        "    keras.layers.Dense(128, activation='relu'),\n",
        "    #e un secondo livello che restituirà l'output composto da 10 neuroni artificiali\n",
        "    keras.layers.Dense(10, activation='softmax')\n",
        "])"
      ],
      "execution_count": 0,
      "outputs": []
    },
    {
      "cell_type": "code",
      "metadata": {
        "id": "h7RkySUwDrhH",
        "colab_type": "code",
        "colab": {}
      },
      "source": [
        "#andiamo quindi a impostare la funzione di ottimizzazione, perdita e le metriche\n",
        "model.compile(optimizer='adam',\n",
        "              loss='sparse_categorical_crossentropy',\n",
        "              metrics=['accuracy'])"
      ],
      "execution_count": 0,
      "outputs": []
    },
    {
      "cell_type": "code",
      "metadata": {
        "id": "B6gU9Yl7EBCL",
        "colab_type": "code",
        "outputId": "c58f3d9a-894e-42d1-a314-03081b8601a7",
        "colab": {
          "base_uri": "https://localhost:8080/",
          "height": 374
        }
      },
      "source": [
        "#ora alleniamo il modello specificando il dataset di training, le labels\n",
        "#ovvero il tipo di abito e il numero di volte che vogliamo che venga ripetuto la funzione di allenamento\n",
        "model.fit(train_images, train_labels, epochs=10)"
      ],
      "execution_count": 37,
      "outputs": [
        {
          "output_type": "stream",
          "text": [
            "Epoch 1/10\n",
            "1875/1875 [==============================] - 3s 2ms/step - loss: 0.4986 - accuracy: 0.8242\n",
            "Epoch 2/10\n",
            "1875/1875 [==============================] - 3s 2ms/step - loss: 0.3768 - accuracy: 0.8627\n",
            "Epoch 3/10\n",
            "1875/1875 [==============================] - 3s 2ms/step - loss: 0.3374 - accuracy: 0.8770\n",
            "Epoch 4/10\n",
            "1875/1875 [==============================] - 3s 2ms/step - loss: 0.3131 - accuracy: 0.8857\n",
            "Epoch 5/10\n",
            "1875/1875 [==============================] - 3s 2ms/step - loss: 0.2945 - accuracy: 0.8915\n",
            "Epoch 6/10\n",
            "1875/1875 [==============================] - 3s 2ms/step - loss: 0.2819 - accuracy: 0.8956\n",
            "Epoch 7/10\n",
            "1875/1875 [==============================] - 3s 2ms/step - loss: 0.2674 - accuracy: 0.9008\n",
            "Epoch 8/10\n",
            "1875/1875 [==============================] - 3s 2ms/step - loss: 0.2570 - accuracy: 0.9035\n",
            "Epoch 9/10\n",
            "1875/1875 [==============================] - 4s 2ms/step - loss: 0.2474 - accuracy: 0.9083\n",
            "Epoch 10/10\n",
            "1875/1875 [==============================] - 4s 2ms/step - loss: 0.2388 - accuracy: 0.9112\n"
          ],
          "name": "stdout"
        },
        {
          "output_type": "execute_result",
          "data": {
            "text/plain": [
              "<tensorflow.python.keras.callbacks.History at 0x7f76740df0f0>"
            ]
          },
          "metadata": {
            "tags": []
          },
          "execution_count": 37
        }
      ]
    },
    {
      "cell_type": "code",
      "metadata": {
        "id": "0cOcEzTQEZM_",
        "colab_type": "code",
        "outputId": "0b60c480-378c-4c94-9d00-073a1daa9063",
        "colab": {
          "base_uri": "https://localhost:8080/",
          "height": 34
        }
      },
      "source": [
        "#calcoliamo l'acuratezza e la perdita del nostro modello usando il dataset di test\n",
        "test_loss, test_acc = model.evaluate(test_images, test_labels, verbose=2)"
      ],
      "execution_count": 38,
      "outputs": [
        {
          "output_type": "stream",
          "text": [
            "313/313 - 0s - loss: 0.3303 - accuracy: 0.8836\n"
          ],
          "name": "stdout"
        }
      ]
    },
    {
      "cell_type": "code",
      "metadata": {
        "id": "wpYjYBYIrSlN",
        "colab_type": "code",
        "colab": {
          "base_uri": "https://localhost:8080/",
          "height": 51
        },
        "outputId": "b07c252e-ff43-4fc2-914d-168216776ece"
      },
      "source": [
        "print('\\nAcuratezza:', test_acc)"
      ],
      "execution_count": 39,
      "outputs": [
        {
          "output_type": "stream",
          "text": [
            "\n",
            "Acuratezza: 0.8835999965667725\n"
          ],
          "name": "stdout"
        }
      ]
    },
    {
      "cell_type": "code",
      "metadata": {
        "id": "a4jY29lyrV0y",
        "colab_type": "code",
        "colab": {
          "base_uri": "https://localhost:8080/",
          "height": 51
        },
        "outputId": "6d7557ab-e814-4702-8115-1ed0cdc03b9e"
      },
      "source": [
        "print('\\nPerdita:', test_loss)"
      ],
      "execution_count": 40,
      "outputs": [
        {
          "output_type": "stream",
          "text": [
            "\n",
            "Perdita: 0.3303082585334778\n"
          ],
          "name": "stdout"
        }
      ]
    },
    {
      "cell_type": "code",
      "metadata": {
        "id": "XvT2Wi9YGsX3",
        "colab_type": "code",
        "outputId": "3f3df959-10f1-44aa-b143-1b1487abff3b",
        "colab": {
          "base_uri": "https://localhost:8080/",
          "height": 269
        }
      },
      "source": [
        "#proviamo a predire il tipo di abito\n",
        "abito = 50\n",
        "plt.figure()\n",
        "plt.imshow(test_images[abito])\n",
        "plt.colorbar()\n",
        "plt.grid(False)\n",
        "plt.show()"
      ],
      "execution_count": 41,
      "outputs": [
        {
          "output_type": "display_data",
          "data": {
            "image/png": "[encoded data removed]",
            "text/plain": [
              "<Figure size 432x288 with 2 Axes>"
            ]
          },
          "metadata": {
            "tags": [],
            "needs_background": "light"
          }
        }
      ]
    },
    {
      "cell_type": "code",
      "metadata": {
        "id": "bxdtLrntG_PF",
        "colab_type": "code",
        "outputId": "54a3172a-ac84-4cf9-9b85-ae1dd9b667dd",
        "colab": {
          "base_uri": "https://localhost:8080/",
          "height": 34
        }
      },
      "source": [
        "#categoria reale\n",
        "tipoAbito[test_labels[abito]]"
      ],
      "execution_count": 42,
      "outputs": [
        {
          "output_type": "execute_result",
          "data": {
            "text/plain": [
              "'Cappotto'"
            ]
          },
          "metadata": {
            "tags": []
          },
          "execution_count": 42
        }
      ]
    },
    {
      "cell_type": "code",
      "metadata": {
        "id": "UbSJNn9cFrg-",
        "colab_type": "code",
        "outputId": "a78c873b-1f69-42b7-c90c-5e55b5bd162b",
        "colab": {
          "base_uri": "https://localhost:8080/",
          "height": 34
        }
      },
      "source": [
        "#categoria predetta dal modello\n",
        "predictions = model.predict(test_images)\n",
        "tipoAbito[np.argmax(predictions[abito])]"
      ],
      "execution_count": 43,
      "outputs": [
        {
          "output_type": "execute_result",
          "data": {
            "text/plain": [
              "'Cappotto'"
            ]
          },
          "metadata": {
            "tags": []
          },
          "execution_count": 43
        }
      ]
    }
  ]
}